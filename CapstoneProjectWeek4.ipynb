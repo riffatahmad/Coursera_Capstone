{
    "cells": [
        {
            "cell_type": "markdown",
            "metadata": {
                "collapsed": true
            },
            "source": "Clearly define a problem or an idea of your choice, where you would need to leverage the Foursquare location data to solve or execute. Remember that data science problems always target an audience and are meant to help a group of stakeholders solve a problem, so make sure that you explicitly describe your audience and why they would care about your problem.\n\nThis submission will eventually become your Introduction/Business Problem section in your final report. So I recommend that you push the report (having your Introduction/Business Problem section only for now) to your Github repository and submit a link to it.\n\nFor this week, you will required to submit the following:\n\n-A description of the problem and a discussion of the background. (15 marks)\n\n-A description of the data and how it will be used to solve the problem. (15 marks)"
        },
        {
            "cell_type": "markdown",
            "metadata": {},
            "source": "# Introduction/ Business Problem"
        },
        {
            "cell_type": "markdown",
            "metadata": {},
            "source": "In this project i will be comparing two major cities in the world. One is NewYork, one of the biggest cities in USA and the other one is Toronto, one of the biggest cities in Canada.These are multicultural citites and hence will have diverse businesses.\nWith the help of foursquare API , I will explore different neigbouroods in these citites and than explore different venues/businesses found in those citites and came up with the top businesses in those neigbourhoods. I will be exploring different types of businesses in these cities, different categories of shops found in these citites. and than i will predict which neighborhood will be suitable for a particular business."
        },
        {
            "cell_type": "markdown",
            "metadata": {},
            "source": "I will construct a URL to send a request to the foursquare API to search for a specific type of venues, to explore a particular venue, to explore a geographical location, and to get trending venues around a location. Also I will use the visualization library, Folium, to visualize the results."
        },
        {
            "cell_type": "code",
            "execution_count": null,
            "metadata": {},
            "outputs": [],
            "source": ""
        }
    ],
    "metadata": {
        "kernelspec": {
            "display_name": "Python 3.6",
            "language": "python",
            "name": "python3"
        },
        "language_info": {
            "codemirror_mode": {
                "name": "ipython",
                "version": 3
            },
            "file_extension": ".py",
            "mimetype": "text/x-python",
            "name": "python",
            "nbconvert_exporter": "python",
            "pygments_lexer": "ipython3",
            "version": "3.6.8"
        }
    },
    "nbformat": 4,
    "nbformat_minor": 1
}